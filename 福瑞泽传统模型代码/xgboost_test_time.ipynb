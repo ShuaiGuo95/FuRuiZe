{
 "cells": [
  {
   "cell_type": "code",
   "execution_count": 8,
   "metadata": {
    "collapsed": true
   },
   "outputs": [],
   "source": [
    "import pandas as pd\n",
    "import numpy as np\n",
    "import xgboost as xgb\n",
    "from sklearn.preprocessing import MinMaxScaler\n",
    "from sklearn.model_selection import GridSearchCV\n",
    "import sys\n",
    "sys.path.append('.')\n",
    "import utils_original"
   ]
  },
  {
   "cell_type": "code",
   "execution_count": 9,
   "metadata": {
    "collapsed": true
   },
   "outputs": [],
   "source": [
    "X_train = pd.read_csv('./time_split/train_data_6_10_feature_selected_median_level_6.csv')\n",
    "X_val = pd.read_csv('./time_split/val_data_11_feature_selected_median_level_6.csv')\n",
    "X_test = pd.read_csv('./time_split/test_data_feature_selected_12_median_level_6.csv')\n",
    "y_train = X_train.pop('label').as_matrix()\n",
    "y_val = X_val.pop('label').as_matrix()\n",
    "y_test = X_test.pop('label').as_matrix()\n",
    "X_train = X_train.as_matrix()\n",
    "X_val = X_val.as_matrix()\n",
    "X_test = X_test.as_matrix()\n",
    "\n",
    "min_max_scaler = MinMaxScaler()\n",
    "min_max_scaler.fit(X_train)\n",
    "X_train = min_max_scaler.transform(X_train)\n",
    "X_val = min_max_scaler.transform(X_val)\n",
    "X_test = min_max_scaler.transform(X_test)"
   ]
  },
  {
   "cell_type": "code",
   "execution_count": 11,
   "metadata": {
    "collapsed": true
   },
   "outputs": [],
   "source": [
    "train_val_features = np.concatenate((X_train, X_val), axis = 0)\n",
    "train_val_labels = np.concatenate((y_train, y_val), axis = 0)"
   ]
  },
  {
   "cell_type": "code",
   "execution_count": 12,
   "metadata": {},
   "outputs": [
    {
     "name": "stdout",
     "output_type": "stream",
     "text": [
      "\n",
      "percision: 0.5833 recall: 0.0136 f1: 0.0266 auc: 0.8855 ks: 0.6242 confusion_matrix: \n",
      "56420  5      \n",
      "507    7      \n",
      "\n",
      "percision: 1.0000 recall: 0.0247 f1: 0.0482 auc: 0.8797 ks: 0.6047 confusion_matrix: \n",
      "13943  0      \n",
      "79     2      \n"
     ]
    },
    {
     "name": "stderr",
     "output_type": "stream",
     "text": [
      "/usr/local/lib/python3.5/dist-packages/sklearn/metrics/classification.py:1113: UndefinedMetricWarning: Precision is ill-defined and being set to 0.0 due to no predicted samples.\n",
      "  'precision', 'predicted', average, warn_for)\n",
      "/usr/local/lib/python3.5/dist-packages/sklearn/metrics/classification.py:1113: UndefinedMetricWarning: F-score is ill-defined and being set to 0.0 due to no predicted samples.\n",
      "  'precision', 'predicted', average, warn_for)\n"
     ]
    },
    {
     "name": "stdout",
     "output_type": "stream",
     "text": [
      "\n",
      "percision: 0.0000 recall: 0.0000 f1: 0.0000 auc: 0.7831 ks: 0.4818 confusion_matrix: \n",
      "21966  0      \n",
      "149    0      \n"
     ]
    }
   ],
   "source": [
    "dtrain = xgb.DMatrix(train_val_features, label=train_val_labels) # xgboost data style\n",
    "dval = xgb.DMatrix(X_val, label=y_val)\n",
    "dtest = xgb.DMatrix(X_test, label=y_test)\n",
    "params = {\n",
    "    'booster': 'gbtree',\n",
    "    'objective': 'binary:logitraw',\n",
    "    'eval_metric': 'auc',\n",
    "    'max_depth': 3,\n",
    "    'max_delta_step': 3,\n",
    "    'lambda': 1,\n",
    "    'subsample': 0.5,\n",
    "    'colsample_bytree': 0.8,\n",
    "    'min_child_weight': 2,\n",
    "    'eta': 0.1,\n",
    "    'silent': 0,\n",
    "    'scale_pos_weight': 3,\n",
    "    'gamma': 0.1\n",
    "}\n",
    "watchlist = [(dtrain, 'train'), (dval, 'val'), (dtest, 'test')]\n",
    "xg_model = xgb.train(params, dtrain, num_boost_round=100)\n",
    "\n",
    "y_train_pred_prob = xg_model.predict(dtrain)\n",
    "y_val_pred_prob = xg_model.predict(dval)\n",
    "y_test_pred_prob = xg_model.predict(dtest)\n",
    "utils_original.model_key_performance(y_train_pred_prob, train_val_labels)\n",
    "utils_original.model_key_performance(y_val_pred_prob, y_val)\n",
    "utils_original.model_key_performance(y_test_pred_prob, y_test)"
   ]
  },
  {
   "cell_type": "code",
   "execution_count": null,
   "metadata": {
    "collapsed": true
   },
   "outputs": [],
   "source": []
  }
 ],
 "metadata": {
  "kernelspec": {
   "display_name": "Python 3",
   "language": "python",
   "name": "python3"
  },
  "language_info": {
   "codemirror_mode": {
    "name": "ipython",
    "version": 3
   },
   "file_extension": ".py",
   "mimetype": "text/x-python",
   "name": "python",
   "nbconvert_exporter": "python",
   "pygments_lexer": "ipython3",
   "version": "3.5.1+"
  }
 },
 "nbformat": 4,
 "nbformat_minor": 2
}
