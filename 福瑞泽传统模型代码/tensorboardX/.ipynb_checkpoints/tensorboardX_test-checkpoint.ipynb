{
 "cells": [
  {
   "cell_type": "code",
   "execution_count": 1,
   "metadata": {
    "collapsed": true
   },
   "outputs": [],
   "source": [
    "import torch\n",
    "import torchvision.utils as vutils\n",
    "import numpy as np\n",
    "import torchvision.models as models\n",
    "from torchvision import datasets\n",
    "from tensorboardX import SummaryWriter"
   ]
  },
  {
   "cell_type": "code",
   "execution_count": 2,
   "metadata": {
    "collapsed": true
   },
   "outputs": [],
   "source": [
    "resnet18 = models.resnet18(False)\n",
    "writer = SummaryWriter()\n",
    "sample_rate = 44100\n",
    "freqs = [262, 294, 330, 349, 392, 440, 440, 440, 440, 440, 440]"
   ]
  },
  {
   "cell_type": "code",
   "execution_count": 4,
   "metadata": {},
   "outputs": [],
   "source": [
    "import tensorflow as tf\n",
    "import numpy as np\n",
    "\n",
    "## prepare the original data\n",
    "with tf.name_scope('data'):\n",
    "     x_data = np.random.rand(100).astype(np.float32)\n",
    "     y_data = 0.3*x_data+0.1\n",
    "##creat parameters\n",
    "with tf.name_scope('parameters'):\n",
    "     weight = tf.Variable(tf.random_uniform([1],-1.0,1.0))\n",
    "     bias = tf.Variable(tf.zeros([1]))\n",
    "##get y_prediction\n",
    "with tf.name_scope('y_prediction'):\n",
    "     y_prediction = weight*x_data+bias\n",
    "##compute the loss\n",
    "with tf.name_scope('loss'):\n",
    "     loss = tf.reduce_mean(tf.square(y_data-y_prediction))\n",
    "##creat optimizer\n",
    "optimizer = tf.train.GradientDescentOptimizer(0.5)\n",
    "#creat train ,minimize the loss \n",
    "with tf.name_scope('train'):\n",
    "     train = optimizer.minimize(loss)\n",
    "#creat init\n",
    "with tf.name_scope('init'): \n",
    "     init = tf.global_variables_initializer()\n",
    "##creat a Session \n",
    "sess = tf.Session()\n",
    "##initialize\n",
    "writer = tf.summary.FileWriter(\"logs/\", sess.graph)\n",
    "sess.run(init)\n",
    "## Loop\n",
    "for step  in  range(101):\n",
    "    sess.run(train)\n",
    "    if step %10==0 :\n",
    "        print step ,'weight:',sess.run(weight),'bias:',sess.run(bias)"
   ]
  },
  {
   "cell_type": "code",
   "execution_count": null,
   "metadata": {
    "collapsed": true
   },
   "outputs": [],
   "source": []
  }
 ],
 "metadata": {
  "kernelspec": {
   "display_name": "Python 3",
   "language": "python",
   "name": "python3"
  },
  "language_info": {
   "codemirror_mode": {
    "name": "ipython",
    "version": 3
   },
   "file_extension": ".py",
   "mimetype": "text/x-python",
   "name": "python",
   "nbconvert_exporter": "python",
   "pygments_lexer": "ipython3",
   "version": "3.5.1+"
  }
 },
 "nbformat": 4,
 "nbformat_minor": 2
}
