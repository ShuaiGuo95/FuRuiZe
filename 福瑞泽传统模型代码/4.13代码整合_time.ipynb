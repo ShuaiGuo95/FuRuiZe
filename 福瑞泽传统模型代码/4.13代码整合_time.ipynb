{
 "cells": [
  {
   "cell_type": "code",
   "execution_count": 1,
   "metadata": {
    "collapsed": true
   },
   "outputs": [],
   "source": [
    "import pandas as pd\n",
    "import numpy as np\n",
    "import xgboost as xgb\n",
    "import matplotlib as mpl\n",
    "import matplotlib.pyplot as plt\n",
    "from sklearn.metrics import confusion_matrix\n",
    "from sklearn.preprocessing import MinMaxScaler\n",
    "from sklearn.model_selection import GridSearchCV\n",
    "import sys\n",
    "sys.path.append('.')\n",
    "import utils"
   ]
  },
  {
   "cell_type": "code",
   "execution_count": 2,
   "metadata": {
    "collapsed": true
   },
   "outputs": [],
   "source": [
    "X_train = pd.read_csv('./time_split/train_data_6_10_feature_selected.csv')\n",
    "X_val = pd.read_csv('./time_split/val_data_11_feature_selected.csv')\n",
    "X_test = pd.read_csv('./time_split/test_data_feature_selected_12.csv')\n",
    "X_train = utils.data_init(X_train)\n",
    "X_val = utils.data_init(X_val)\n",
    "X_test = utils.data_init(X_test)\n",
    "\n",
    "y_train = X_train.pop('label').as_matrix()\n",
    "y_val = X_val.pop('label').as_matrix()\n",
    "y_test = X_test.pop('label').as_matrix()\n",
    "X_train = X_train.as_matrix()\n",
    "X_val = X_val.as_matrix()\n",
    "X_test = X_test.as_matrix()\n",
    "\n",
    "min_max_scaler = MinMaxScaler()\n",
    "min_max_scaler.fit(X_train)\n",
    "X_train = min_max_scaler.transform(X_train)\n",
    "X_val = min_max_scaler.transform(X_val)\n",
    "X_test = min_max_scaler.transform(X_test)"
   ]
  },
  {
   "cell_type": "code",
   "execution_count": null,
   "metadata": {
    "collapsed": true
   },
   "outputs": [],
   "source": [
    "# X_train = pd.read_csv('./time_split/train_data_6_10_feature_selected.csv')\n",
    "# name = X_train.columns.values.tolist()\n",
    "# name = pd.DataFrame(columns = ['name'], data = name)\n",
    "# name.to_csv('name.csv', index = False)"
   ]
  },
  {
   "cell_type": "code",
   "execution_count": 3,
   "metadata": {},
   "outputs": [
    {
     "data": {
      "text/plain": [
       "(42915, 123)"
      ]
     },
     "execution_count": 3,
     "metadata": {},
     "output_type": "execute_result"
    }
   ],
   "source": [
    "X_train.shape"
   ]
  },
  {
   "cell_type": "code",
   "execution_count": 4,
   "metadata": {
    "collapsed": true
   },
   "outputs": [],
   "source": [
    "train_val_features = np.concatenate((X_train, X_val), axis = 0)\n",
    "train_val_labels = np.concatenate((y_train, y_val), axis = 0)"
   ]
  },
  {
   "cell_type": "code",
   "execution_count": 5,
   "metadata": {
    "collapsed": true
   },
   "outputs": [],
   "source": [
    "dtrain = xgb.DMatrix(train_val_features, label=train_val_labels) # xgboost data style\n",
    "dval = xgb.DMatrix(X_val, label=y_val)\n",
    "dtest = xgb.DMatrix(X_test, label=y_test)\n",
    "params = {\n",
    "    'booster': 'gbtree',\n",
    "    'objective': 'binary:logitraw',\n",
    "    'eval_metric': 'auc',\n",
    "    'max_depth': 3,\n",
    "    'max_delta_step': 3,\n",
    "    'lambda': 1,\n",
    "    'subsample': 0.5,\n",
    "    'colsample_bytree': 0.8,\n",
    "    'min_child_weight': 2,\n",
    "    'eta': 0.1,\n",
    "    'silent': True,\n",
    "    'scale_pos_weight': 3,\n",
    "    'gamma': 0.1\n",
    "}\n",
    "watchlist = [(dtrain, 'train'), (dval, 'val'), (dtest, 'test')]\n",
    "xg_model = xgb.train(params, dtrain, num_boost_round=100)"
   ]
  },
  {
   "cell_type": "code",
   "execution_count": 6,
   "metadata": {},
   "outputs": [
    {
     "name": "stdout",
     "output_type": "stream",
     "text": [
      "\n",
      "percision: 0.5833 recall: 0.0136 f1: 0.0266 auc: 0.8855 ks: 0.6242 confusion_matrix: \n",
      "56420  5      \n",
      "507    7      \n",
      "\n",
      "percision: 1.0000 recall: 0.0247 f1: 0.0482 auc: 0.8797 ks: 0.6047 confusion_matrix: \n",
      "13943  0      \n",
      "79     2      \n",
      "\n",
      "percision: 0.0000 recall: 0.0000 f1: 0.0000 auc: 0.7831 ks: 0.4818 confusion_matrix: \n",
      "21966  0      \n",
      "149    0      \n"
     ]
    },
    {
     "name": "stderr",
     "output_type": "stream",
     "text": [
      "/home/guoshuai/.local/lib/python3.5/site-packages/sklearn/metrics/classification.py:1135: UndefinedMetricWarning: Precision is ill-defined and being set to 0.0 due to no predicted samples.\n",
      "  'precision', 'predicted', average, warn_for)\n",
      "/home/guoshuai/.local/lib/python3.5/site-packages/sklearn/metrics/classification.py:1135: UndefinedMetricWarning: F-score is ill-defined and being set to 0.0 due to no predicted samples.\n",
      "  'precision', 'predicted', average, warn_for)\n"
     ]
    }
   ],
   "source": [
    "y_train_pred_prob = xg_model.predict(dtrain)\n",
    "y_val_pred_prob = xg_model.predict(dval)\n",
    "y_test_pred_prob = xg_model.predict(dtest)\n",
    "utils.model_key_performance_print(y_train_pred_prob, train_val_labels)\n",
    "utils.model_key_performance_print(y_val_pred_prob, y_val)\n",
    "utils.model_key_performance_print(y_test_pred_prob, y_test)"
   ]
  },
  {
   "cell_type": "code",
   "execution_count": 7,
   "metadata": {
    "collapsed": true
   },
   "outputs": [],
   "source": [
    "y_test_prob_need = y_test_pred_prob - np.amin(y_test_pred_prob) + 0.01\n",
    "y_test_prob_need = y_test_prob_need/(np.max(y_test_prob_need)+1)\n",
    "y_test_prob_need = np.log(60)*np.log(y_test_prob_need/(1-y_test_prob_need)) + 600\n",
    "pr_need_max = np.max(y_test_prob_need)\n",
    "pr_need_min = np.min(y_test_prob_need)\n",
    "y_test_prob_need = (y_test_prob_need - pr_need_min + 0.01) / (pr_need_max - pr_need_min + 0.01)"
   ]
  },
  {
   "cell_type": "code",
   "execution_count": 8,
   "metadata": {},
   "outputs": [
    {
     "data": {
      "image/png": "[encoded data removed]",
      "text/plain": [
       "<matplotlib.figure.Figure at 0x7ff6383cc240>"
      ]
     },
     "metadata": {},
     "output_type": "display_data"
    }
   ],
   "source": [
    "n, bins, patches = plt.hist(y_test_prob_need, 70, facecolor='b', alpha=0.75)\n",
    "\n",
    "plt.xlabel('Score')\n",
    "plt.ylabel('Num')\n",
    "plt.title('Histogram of Score of Time Split')\n",
    "plt.grid(True)\n",
    "plt.show()"
   ]
  },
  {
   "cell_type": "code",
   "execution_count": 9,
   "metadata": {},
   "outputs": [
    {
     "name": "stdout",
     "output_type": "stream",
     "text": [
      "0.723\n"
     ]
    }
   ],
   "source": [
    "# test集上的混淆矩阵\n",
    "prob = y_test_prob_need\n",
    "label = y_test\n",
    "df = pd.DataFrame(data = {'label': label, 'prob': prob})\n",
    "df['prob'] = df['prob'].map(lambda x: round(x, 3))\n",
    "total = pd.DataFrame({'total': df.groupby('prob')['label'].count()})\n",
    "bad = pd.DataFrame({'bad': df.groupby('prob')['label'].sum()})\n",
    "all_data = total.merge(bad, how = 'left', left_index = True, right_index = True)\n",
    "all_data['good'] = all_data['total'] - all_data['bad']\n",
    "all_data.reset_index(inplace = True)\n",
    "all_data['goodCumPer'] = all_data['good'].cumsum() / all_data['good'].sum()\n",
    "all_data['badCumPer'] = all_data['bad'].cumsum() / all_data['bad'].sum()\n",
    "all_data['ks'] = all_data.apply(lambda x: x.goodCumPer - x.badCumPer, axis = 1)\n",
    "threshold = all_data[all_data.ks == all_data['ks'].max()].prob.values[0]\n",
    "print(threshold)"
   ]
  },
  {
   "cell_type": "code",
   "execution_count": 10,
   "metadata": {},
   "outputs": [
    {
     "data": {
      "text/plain": [
       "array([[19155,  2811],\n",
       "       [   74,    75]])"
      ]
     },
     "execution_count": 10,
     "metadata": {},
     "output_type": "execute_result"
    }
   ],
   "source": [
    "y_test_label_need = []\n",
    "for x in y_test_prob_need:\n",
    "    if x < 0.7451:\n",
    "        y_test_label_need.append(0)\n",
    "    else:\n",
    "        y_test_label_need.append(1)\n",
    "\n",
    "confusion_matrix(y_test, y_test_label_need)"
   ]
  },
  {
   "cell_type": "code",
   "execution_count": 11,
   "metadata": {},
   "outputs": [
    {
     "data": {
      "text/plain": [
       "(438,)"
      ]
     },
     "execution_count": 11,
     "metadata": {},
     "output_type": "execute_result"
    }
   ],
   "source": [
    "x_data = all_data[all_data.ks == all_data['ks']].prob.values\n",
    "y_data = all_data['ks'].values\n",
    "y_data.shape"
   ]
  },
  {
   "cell_type": "code",
   "execution_count": 12,
   "metadata": {},
   "outputs": [
    {
     "data": {
      "text/plain": [
       "438"
      ]
     },
     "execution_count": 12,
     "metadata": {},
     "output_type": "execute_result"
    }
   ],
   "source": [
    "all_data['ks'].count()"
   ]
  },
  {
   "cell_type": "code",
   "execution_count": null,
   "metadata": {
    "collapsed": true
   },
   "outputs": [],
   "source": []
  }
 ],
 "metadata": {
  "kernelspec": {
   "display_name": "Python 3",
   "language": "python",
   "name": "python3"
  },
  "language_info": {
   "codemirror_mode": {
    "name": "ipython",
    "version": 3
   },
   "file_extension": ".py",
   "mimetype": "text/x-python",
   "name": "python",
   "nbconvert_exporter": "python",
   "pygments_lexer": "ipython3",
   "version": "3.6.6"
  }
 },
 "nbformat": 4,
 "nbformat_minor": 2
}
