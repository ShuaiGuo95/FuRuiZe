{
 "cells": [
  {
   "cell_type": "code",
   "execution_count": 1,
   "metadata": {},
   "outputs": [
    {
     "name": "stderr",
     "output_type": "stream",
     "text": [
      "/home/guoshuai/.local/lib/python3.5/site-packages/sklearn/cross_validation.py:41: DeprecationWarning: This module was deprecated in version 0.18 in favor of the model_selection module into which all the refactored classes and functions are moved. Also note that the interface of the new CV iterators are different from that of this module. This module will be removed in 0.20.\n",
      "  \"This module will be removed in 0.20.\", DeprecationWarning)\n"
     ]
    }
   ],
   "source": [
    "import pandas as pd\n",
    "import numpy as np\n",
    "import xgboost as xgb\n",
    "import matplotlib as mpl\n",
    "import matplotlib.pyplot as plt\n",
    "from xgboost import XGBClassifier\n",
    "from sklearn.metrics import confusion_matrix\n",
    "from sklearn.preprocessing import MinMaxScaler\n",
    "from sklearn.model_selection import GridSearchCV\n",
    "from sklearn.cross_validation import PredefinedSplit\n",
    "from sklearn.model_selection import train_test_split\n",
    "from sklearn.linear_model import LogisticRegression\n",
    "import sys\n",
    "sys.path.append('.')\n",
    "import utils"
   ]
  },
  {
   "cell_type": "code",
   "execution_count": 2,
   "metadata": {},
   "outputs": [
    {
     "name": "stdout",
     "output_type": "stream",
     "text": [
      "[0]\ttrain-auc:0.644228\ttest-auc:0.628106\n",
      "[1]\ttrain-auc:0.71091\ttest-auc:0.71108\n",
      "[2]\ttrain-auc:0.711962\ttest-auc:0.72494\n",
      "[3]\ttrain-auc:0.729051\ttest-auc:0.72989\n",
      "[4]\ttrain-auc:0.741489\ttest-auc:0.725341\n",
      "[5]\ttrain-auc:0.746052\ttest-auc:0.734132\n",
      "[6]\ttrain-auc:0.753162\ttest-auc:0.747373\n",
      "[7]\ttrain-auc:0.753036\ttest-auc:0.748983\n",
      "[8]\ttrain-auc:0.754054\ttest-auc:0.74432\n",
      "[9]\ttrain-auc:0.754275\ttest-auc:0.744218\n"
     ]
    },
    {
     "name": "stderr",
     "output_type": "stream",
     "text": [
      "/home/guoshuai/.local/lib/python3.5/site-packages/sklearn/utils/validation.py:475: DataConversionWarning: Data with input dtype int64 was converted to float64 by MinMaxScaler.\n",
      "  warnings.warn(msg, DataConversionWarning)\n"
     ]
    },
    {
     "name": "stdout",
     "output_type": "stream",
     "text": [
      "lr-model validation result: \n",
      "\n",
      "percision: 0.0412 recall: 0.3360 f1: 0.0733 auc: 0.7494 ks: 0.3756 confusion_matrix: \n",
      "54165  3843   \n",
      "326    165    \n",
      "\n",
      "percision: 0.0345 recall: 0.2791 f1: 0.0614 auc: 0.7687 ks: 0.4148 confusion_matrix: \n",
      "9519   672    \n",
      "62     24     \n",
      "\n",
      "percision: 0.0353 recall: 0.3023 f1: 0.0633 auc: 0.7615 ks: 0.4309 confusion_matrix: \n",
      "9482   710    \n",
      "60     26     \n"
     ]
    }
   ],
   "source": [
    "# 单个lr\n",
    "import  FeatureExact as feat\n",
    "\n",
    "# load datasets and preprocessing\n",
    "data_file = './data.csv'\n",
    "data = feat.feature_select(data_file)\n",
    "X_train, X_val, X_test, y_train, y_val, y_test = feat.split_dataset(data)\n",
    "feat.test_lr_model(X_train, X_val, X_test, y_train, y_val, y_test)"
   ]
  },
  {
   "cell_type": "code",
   "execution_count": 3,
   "metadata": {},
   "outputs": [
    {
     "name": "stdout",
     "output_type": "stream",
     "text": [
      "[0]\ttrain-auc:0.644228\ttest-auc:0.628106\n",
      "[1]\ttrain-auc:0.71091\ttest-auc:0.71108\n",
      "[2]\ttrain-auc:0.711962\ttest-auc:0.72494\n",
      "[3]\ttrain-auc:0.729051\ttest-auc:0.72989\n",
      "[4]\ttrain-auc:0.741489\ttest-auc:0.725341\n",
      "[5]\ttrain-auc:0.746052\ttest-auc:0.734132\n",
      "[6]\ttrain-auc:0.753162\ttest-auc:0.747373\n",
      "[7]\ttrain-auc:0.753036\ttest-auc:0.748983\n",
      "[8]\ttrain-auc:0.754054\ttest-auc:0.74432\n",
      "[9]\ttrain-auc:0.754275\ttest-auc:0.744218\n",
      "0\n"
     ]
    },
    {
     "name": "stderr",
     "output_type": "stream",
     "text": [
      "/home/guoshuai/.local/lib/python3.5/site-packages/sklearn/utils/validation.py:475: DataConversionWarning: Data with input dtype int64 was converted to float64 by MinMaxScaler.\n",
      "  warnings.warn(msg, DataConversionWarning)\n"
     ]
    },
    {
     "name": "stdout",
     "output_type": "stream",
     "text": [
      "1\n",
      "2\n",
      "3\n",
      "4\n",
      "5\n",
      "6\n",
      "7\n",
      "8\n",
      "9\n",
      "0.760335648714 0.399986990678\n",
      "0.724872642239 0.371585884354\n",
      "0.746214190568 0.409368307747\n"
     ]
    }
   ],
   "source": [
    "# 十折\n",
    "import  FeatureExact as feat\n",
    "data_file = './data.csv'\n",
    "data = feat.feature_select(data_file)\n",
    "data_y = data.pop('label').as_matrix()\n",
    "data_X = data.as_matrix()\n",
    "\n",
    "train_auc, train_ks = [], []\n",
    "val_auc, val_ks = [], []\n",
    "test_auc, test_ks = [], []\n",
    "i = 0\n",
    "lr = LogisticRegression(penalty='l2', C = 1, class_weight={1:120})\n",
    "\n",
    "for X_train, X_val, X_test, y_train, y_val, y_test in utils.kfold(data_X, data_y, num_fold = 10):\n",
    "    print(i)\n",
    "    i = i + 1\n",
    "    min_max_scaler = MinMaxScaler()\n",
    "    min_max_scaler.fit(X_train)\n",
    "    X_train = min_max_scaler.transform(X_train)\n",
    "    X_val = min_max_scaler.transform(X_val)\n",
    "    X_test = min_max_scaler.transform(X_test)\n",
    "\n",
    "    lr.fit(X_train, y_train)\n",
    "    # validate the  LR model\n",
    "    y_train_pred_prob = lr.predict_proba(X_train)[:,1]\n",
    "    y_val_pred_prob = lr.predict_proba(X_val)[:,1]\n",
    "    y_test_pred_prob = lr.predict_proba(X_test)[:,1]\n",
    "\n",
    "    temp_auc, temp_ks = utils.model_key_performance(y_train_pred_prob, y_train)\n",
    "    train_auc.append(temp_auc)\n",
    "    train_ks.append(temp_ks)\n",
    "    temp_auc, temp_ks = utils.model_key_performance(y_val_pred_prob, y_val)\n",
    "    val_auc.append(temp_auc)\n",
    "    val_ks.append(temp_ks)\n",
    "    temp_auc, temp_ks = utils.model_key_performance(y_test_pred_prob, y_test)\n",
    "    test_auc.append(temp_auc)\n",
    "    test_ks.append(temp_ks)\n",
    "\n",
    "print(np.mean(train_auc), np.mean(train_ks))\n",
    "print(np.mean(val_auc), np.mean(val_ks))\n",
    "print(np.mean(test_auc), np.mean(test_ks))"
   ]
  },
  {
   "cell_type": "code",
   "execution_count": null,
   "metadata": {
    "collapsed": true
   },
   "outputs": [],
   "source": []
  }
 ],
 "metadata": {
  "kernelspec": {
   "display_name": "Python 3",
   "language": "python",
   "name": "python3"
  },
  "language_info": {
   "codemirror_mode": {
    "name": "ipython",
    "version": 3
   },
   "file_extension": ".py",
   "mimetype": "text/x-python",
   "name": "python",
   "nbconvert_exporter": "python",
   "pygments_lexer": "ipython3",
   "version": "3.5.1+"
  }
 },
 "nbformat": 4,
 "nbformat_minor": 2
}
