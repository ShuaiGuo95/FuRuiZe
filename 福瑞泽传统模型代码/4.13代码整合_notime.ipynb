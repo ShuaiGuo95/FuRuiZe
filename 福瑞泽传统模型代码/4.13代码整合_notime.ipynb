{
 "cells": [
  {
   "cell_type": "code",
   "execution_count": 1,
   "metadata": {},
   "outputs": [
    {
     "name": "stderr",
     "output_type": "stream",
     "text": [
      "/home/guoshuai/.local/lib/python3.5/site-packages/sklearn/cross_validation.py:41: DeprecationWarning: This module was deprecated in version 0.18 in favor of the model_selection module into which all the refactored classes and functions are moved. Also note that the interface of the new CV iterators are different from that of this module. This module will be removed in 0.20.\n",
      "  \"This module will be removed in 0.20.\", DeprecationWarning)\n"
     ]
    }
   ],
   "source": [
    "import pandas as pd\n",
    "import numpy as np\n",
    "import xgboost as xgb\n",
    "import matplotlib as mpl\n",
    "import matplotlib.pyplot as plt\n",
    "from xgboost import XGBClassifier\n",
    "from sklearn.metrics import confusion_matrix\n",
    "from sklearn.preprocessing import MinMaxScaler\n",
    "from sklearn.model_selection import GridSearchCV\n",
    "from sklearn.cross_validation import PredefinedSplit\n",
    "import sys\n",
    "sys.path.append('.')\n",
    "import utils"
   ]
  },
  {
   "cell_type": "code",
   "execution_count": 2,
   "metadata": {
    "collapsed": true
   },
   "outputs": [],
   "source": [
    "def get_ks_score(prob, label):\n",
    "    '''\n",
    "    计算ks得分\n",
    "    :param pro: 属于坏人的概率\n",
    "    :param label: 真实标签\n",
    "    :return: ks得分\n",
    "    '''\n",
    "    df = pd.DataFrame(data = {'label': label, 'prob': prob})\n",
    "    df['prob'] = df['prob'].map(lambda x: round(x, 3))\n",
    "    total = pd.DataFrame({'total': df.groupby('prob')['label'].count()})\n",
    "    bad = pd.DataFrame({'bad': df.groupby('prob')['label'].sum()})\n",
    "    all_data = total.merge(bad, how = 'left', left_index = True, right_index = True)\n",
    "    all_data['good'] = all_data['total'] - all_data['bad']\n",
    "    all_data.reset_index(inplace = True)\n",
    "    all_data['goodCumPer'] = all_data['good'].cumsum() / all_data['good'].sum()\n",
    "    all_data['badCumPer'] = all_data['bad'].cumsum() / all_data['bad'].sum()\n",
    "    KS_m = all_data.apply(lambda x: x.goodCumPer - x.badCumPer, axis = 1)\n",
    "    return max(KS_m)\n",
    "\n",
    "def my_scoring(self, X, y, sample_weight=None):\n",
    "    scoring_prob = self.predict_proba(X)[:, 1]\n",
    "    false_positive_rate, true_positive_rate, thresholds = metrics.roc_curve(y, scoring_prob)\n",
    "    auc = metrics.auc(false_positive_rate, true_positive_rate)\n",
    "    ks = get_ks_score(scoring_prob, y)\n",
    "    #print(X.shape)\n",
    "    #score_need = 2*auc*ks/(auc + ks)\n",
    "    score_need = (auc + ks)\n",
    "    return ks"
   ]
  },
  {
   "cell_type": "code",
   "execution_count": 3,
   "metadata": {},
   "outputs": [
    {
     "data": {
      "text/plain": [
       "(79054, 124)"
      ]
     },
     "execution_count": 3,
     "metadata": {},
     "output_type": "execute_result"
    }
   ],
   "source": [
    "data = pd.read_csv('./cmh_level/data_feature_selected.csv')\n",
    "data = utils.data_init(data)\n",
    "data.shape"
   ]
  },
  {
   "cell_type": "code",
   "execution_count": 4,
   "metadata": {},
   "outputs": [
    {
     "name": "stdout",
     "output_type": "stream",
     "text": [
      "0\n",
      "1\n",
      "2\n",
      "3\n",
      "4\n",
      "5\n",
      "6\n",
      "7\n",
      "8\n",
      "9\n",
      "0.849367247481 0.544701450375\n",
      "0.810656404607 0.514224644403\n",
      "0.805495407042 0.493302019735\n"
     ]
    }
   ],
   "source": [
    "y_prob_need = []\n",
    "params = {\n",
    "    'booster': 'gbtree',\n",
    "    'objective': 'binary:logitraw',\n",
    "    'eval_metric': 'auc',\n",
    "    \n",
    "    'eta': 0.1,# learning rate 0.2 --\n",
    "    \n",
    "    'scale_pos_weight': 34, #2 --\n",
    "    \n",
    "    'max_depth': 2,# --\n",
    "    'min_child_weight': 1.5, #1.6 \n",
    "    'gamma': 0.5, #越大算法越保守 ??\n",
    "    'subsample': 0.5, #每棵树随机采样比例 --\n",
    "    'colsample_bytree': 0.9, #每棵树随机采样的列数的占比 2 --\n",
    "    \n",
    "    'max_delta_step': 1, # 每棵树权重改变的最大步长 可用于类别不平衡 logisticregresion --\n",
    "\n",
    "    'alpha': 0.9, #l1正则化参数 --\n",
    "    'lambda': 0.6, #l2正则化参数 --\n",
    "\n",
    "    'silent': 0,\n",
    "}\n",
    "train_auc, train_ks = [], []\n",
    "val_auc, val_ks = [], []\n",
    "test_auc, test_ks = [], []\n",
    "\n",
    "data_y = data.pop('label').as_matrix()\n",
    "data_X = data.as_matrix()\n",
    "i = 0\n",
    "\n",
    "for j in range(1):\n",
    "    for X_train, X_val, X_test, y_train, y_val, y_test in utils.kfold(data_X, data_y, num_fold = 10):\n",
    "        print(i)\n",
    "        i = i + 1\n",
    "        min_max_scaler = MinMaxScaler()\n",
    "        min_max_scaler.fit(X_train)\n",
    "        X_train = min_max_scaler.transform(X_train)\n",
    "        X_val = min_max_scaler.transform(X_val)\n",
    "        X_test = min_max_scaler.transform(X_test)\n",
    "        \n",
    "        dtrain = xgb.DMatrix(X_train, label=y_train) # xgboost data style\n",
    "        dval = xgb.DMatrix(X_val, label=y_val)\n",
    "        dtest = xgb.DMatrix(X_test, label=y_test)\n",
    "        \n",
    "        xg_model = xgb.train(params, dtrain, num_boost_round=84) #10-150\n",
    "        \n",
    "        y_train_pred_prob = xg_model.predict(dtrain)\n",
    "        y_val_pred_prob = xg_model.predict(dval)\n",
    "        y_test_pred_prob = xg_model.predict(dtest)\n",
    "        temp_auc, temp_ks = utils.model_key_performance(y_train_pred_prob, y_train)\n",
    "        train_auc.append(temp_auc)\n",
    "        train_ks.append(temp_ks)\n",
    "        temp_auc, temp_ks = utils.model_key_performance(y_val_pred_prob, y_val)\n",
    "        val_auc.append(temp_auc)\n",
    "        val_ks.append(temp_ks)\n",
    "        temp_auc, temp_ks = utils.model_key_performance(y_test_pred_prob, y_test)\n",
    "        test_auc.append(temp_auc)\n",
    "        test_ks.append(temp_ks)\n",
    "        y_prob_need.append(y_test_pred_prob)\n",
    "\n",
    "print(np.mean(train_auc), np.mean(train_ks))\n",
    "print(np.mean(val_auc), np.mean(val_ks))\n",
    "print(np.mean(test_auc), np.mean(test_ks))"
   ]
  },
  {
   "cell_type": "code",
   "execution_count": 5,
   "metadata": {
    "collapsed": true
   },
   "outputs": [],
   "source": [
    "y_test_prob_need = y_test_pred_prob - np.amin(y_test_pred_prob) + 0.01\n",
    "y_test_prob_need = y_test_prob_need/(np.max(y_test_prob_need)+1)\n",
    "y_test_prob_need = np.log(60)*np.log(y_test_prob_need/(1-y_test_prob_need)) + 600\n",
    "pr_need_max = np.max(y_test_prob_need)\n",
    "pr_need_min = np.min(y_test_prob_need)\n",
    "y_test_prob_need = (y_test_prob_need - pr_need_min + 0.01) / (pr_need_max - pr_need_min + 0.01)"
   ]
  },
  {
   "cell_type": "code",
   "execution_count": 6,
   "metadata": {
    "scrolled": false
   },
   "outputs": [
    {
     "data": {
      "image/png": "[encoded data removed]",
      "text/plain": [
       "<matplotlib.figure.Figure at 0x7faadcb63390>"
      ]
     },
     "metadata": {},
     "output_type": "display_data"
    }
   ],
   "source": [
    "n, bins, patches = plt.hist(y_test_prob_need, 60, facecolor='b', alpha=0.75)\n",
    "\n",
    "plt.xlabel('Score')\n",
    "plt.ylabel('Num')\n",
    "plt.title('Histogram of Score of No-time Split')\n",
    "plt.grid(True)\n",
    "plt.show()"
   ]
  },
  {
   "cell_type": "code",
   "execution_count": 7,
   "metadata": {},
   "outputs": [
    {
     "name": "stdout",
     "output_type": "stream",
     "text": [
      "0.729\n"
     ]
    }
   ],
   "source": [
    "prob = y_test_prob_need\n",
    "label = y_test\n",
    "df = pd.DataFrame(data = {'label': label, 'prob': prob})\n",
    "df['prob'] = df['prob'].map(lambda x: round(x, 3))\n",
    "total = pd.DataFrame({'total': df.groupby('prob')['label'].count()})\n",
    "bad = pd.DataFrame({'bad': df.groupby('prob')['label'].sum()})\n",
    "all_data = total.merge(bad, how = 'left', left_index = True, right_index = True)\n",
    "all_data['good'] = all_data['total'] - all_data['bad']\n",
    "all_data.reset_index(inplace = True)\n",
    "all_data['goodCumPer'] = all_data['good'].cumsum() / all_data['good'].sum()\n",
    "all_data['badCumPer'] = all_data['bad'].cumsum() / all_data['bad'].sum()\n",
    "all_data['ks'] = all_data.apply(lambda x: x.goodCumPer - x.badCumPer, axis = 1)\n",
    "threshold = all_data[all_data.ks == all_data['ks'].max()].prob.values[0]\n",
    "print(threshold)"
   ]
  },
  {
   "cell_type": "code",
   "execution_count": 12,
   "metadata": {},
   "outputs": [
    {
     "data": {
      "text/plain": [
       "array([[6907,  932],\n",
       "       [  33,   33]])"
      ]
     },
     "execution_count": 12,
     "metadata": {},
     "output_type": "execute_result"
    }
   ],
   "source": [
    "y_test_label_need = []\n",
    "for x in y_test_prob_need:\n",
    "    if x < 0.772:\n",
    "        y_test_label_need.append(0)\n",
    "    else:\n",
    "        y_test_label_need.append(1)\n",
    "\n",
    "confusion_matrix(y_test, y_test_label_need)"
   ]
  },
  {
   "cell_type": "code",
   "execution_count": 9,
   "metadata": {
    "collapsed": true
   },
   "outputs": [],
   "source": [
    "importance = xg_model.get_fscore()"
   ]
  },
  {
   "cell_type": "code",
   "execution_count": 10,
   "metadata": {},
   "outputs": [
    {
     "data": {
      "text/plain": [
       "dict"
      ]
     },
     "execution_count": 10,
     "metadata": {},
     "output_type": "execute_result"
    }
   ],
   "source": [
    "type(importance)"
   ]
  },
  {
   "cell_type": "code",
   "execution_count": null,
   "metadata": {
    "collapsed": true
   },
   "outputs": [],
   "source": []
  }
 ],
 "metadata": {
  "kernelspec": {
   "display_name": "Python 3",
   "language": "python",
   "name": "python3"
  },
  "language_info": {
   "codemirror_mode": {
    "name": "ipython",
    "version": 3
   },
   "file_extension": ".py",
   "mimetype": "text/x-python",
   "name": "python",
   "nbconvert_exporter": "python",
   "pygments_lexer": "ipython3",
   "version": "3.5.1+"
  }
 },
 "nbformat": 4,
 "nbformat_minor": 2
}
