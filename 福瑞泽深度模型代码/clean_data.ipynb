{
 "cells": [
  {
   "cell_type": "code",
   "execution_count": null,
   "metadata": {},
   "outputs": [],
   "source": [
    "import pickle\n",
    "\n",
    "import pandas as pd\n",
    "import numpy as np\n",
    "from clean_data import clean_data\n",
    "\n",
    "%load_ext autoreload\n",
    "%autoreload 2"
   ]
  },
  {
   "cell_type": "code",
   "execution_count": null,
   "metadata": {},
   "outputs": [],
   "source": [
    "# Labels for 06-12\n",
    "df = pd.read_csv('data/train_0612.csv', encoding='gbk')\n",
    "labels = np.array(df['label'])\n",
    "\n",
    "with open('clean_data/train_0612_labels.npy', 'wb') as f:\n",
    "    np.save(f, labels)"
   ]
  },
  {
   "cell_type": "code",
   "execution_count": null,
   "metadata": {},
   "outputs": [],
   "source": [
    "clean_df = df.drop(['applyid', 'applydate', 'label'], axis=1)"
   ]
  },
  {
   "cell_type": "code",
   "execution_count": null,
   "metadata": {
    "scrolled": false
   },
   "outputs": [],
   "source": [
    "# Features for 06-12\n",
    "df, clean_columns = clean_data('data/train_0612.csv')\n",
    "print(df.shape)\n",
    "cols1 = df.columns.tolist()\n",
    "\n",
    "train_data = np.array(df)\n",
    "with open('clean_data/train_0612.npy', 'wb') as f:\n",
    "    np.save(f, train_data)"
   ]
  },
  {
   "cell_type": "code",
   "execution_count": null,
   "metadata": {},
   "outputs": [],
   "source": [
    "# Labels for 01-02\n",
    "df = pd.read_csv('data/label_01_02.csv')\n",
    "labels = np.array(df['EVER60_LABEL'])\n",
    "\n",
    "with open('clean_data/test_0102_labels.npy', 'wb') as f:\n",
    "    np.save(f, labels)"
   ]
  },
  {
   "cell_type": "code",
   "execution_count": null,
   "metadata": {},
   "outputs": [],
   "source": [
    "# Features for 01-02\n",
    "df, _ = clean_data('data/test_0102.csv', clean_columns)\n",
    "print(df.shape)\n",
    "cols2 = df.columns.tolist()\n",
    "\n",
    "test_data = np.array(df)\n",
    "with open('clean_data/test_0102.npy', 'wb') as f:\n",
    "    np.save(f, test_data)"
   ]
  },
  {
   "cell_type": "code",
   "execution_count": null,
   "metadata": {
    "scrolled": true
   },
   "outputs": [],
   "source": [
    "# Features for 03-05, 77k\n",
    "df, _ = clean_data('data/test_0305.csv', clean_columns)\n",
    "print(df.shape)\n",
    "cols3 = df.columns.tolist()\n",
    "\n",
    "test_data = np.array(df)\n",
    "with open('clean_data/test_0305.npy', 'wb') as f:\n",
    "    np.save(f, test_data)"
   ]
  },
  {
   "cell_type": "code",
   "execution_count": null,
   "metadata": {
    "scrolled": true
   },
   "outputs": [],
   "source": [
    "# Features for 03-05, 78k\n",
    "df, _ = clean_data('data/test_0305_v2.csv', clean_columns)\n",
    "print(df.shape)\n",
    "cols4 = df.columns.tolist()\n",
    "\n",
    "test_data = np.array(df)\n",
    "with open('clean_data/test_0305_v2.npy', 'wb') as f:\n",
    "    np.save(f, test_data)"
   ]
  },
  {
   "cell_type": "code",
   "execution_count": null,
   "metadata": {},
   "outputs": [],
   "source": [
    "assert cols1 == cols2 == cols3 == cols4"
   ]
  },
  {
   "cell_type": "code",
   "execution_count": null,
   "metadata": {},
   "outputs": [],
   "source": [
    "import"
   ]
  }
 ],
 "metadata": {
  "kernelspec": {
   "display_name": "Python 3",
   "language": "python",
   "name": "python3"
  },
  "language_info": {
   "codemirror_mode": {
    "name": "ipython",
    "version": 3
   },
   "file_extension": ".py",
   "mimetype": "text/x-python",
   "name": "python",
   "nbconvert_exporter": "python",
   "pygments_lexer": "ipython3",
   "version": "3.6.6"
  }
 },
 "nbformat": 4,
 "nbformat_minor": 2
}
