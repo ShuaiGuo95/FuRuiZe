{
 "cells": [
  {
   "cell_type": "code",
   "execution_count": null,
   "metadata": {},
   "outputs": [],
   "source": [
    "%matplotlib inline\n",
    "import numpy as np\n",
    "import pandas as pd\n",
    "import seaborn as sns\n",
    "import matplotlib.pyplot as plt\n",
    "import pandas as pd"
   ]
  },
  {
   "cell_type": "code",
   "execution_count": null,
   "metadata": {},
   "outputs": [],
   "source": [
    "sns.set_style(\"white\")"
   ]
  },
  {
   "cell_type": "code",
   "execution_count": null,
   "metadata": {},
   "outputs": [],
   "source": [
    "preds_0612 = np.array(pd.read_csv('report/inference_06-12.csv').iloc[:, 1])\n",
    "preds_0102 = np.array(pd.read_csv('report/inference_01-02.csv').iloc[:, 1])\n",
    "preds_0305 = np.array(pd.read_csv('report/inference_03-05.csv').iloc[:, 1])\n",
    "preds_0305_v2 = np.array(pd.read_csv('report/inference_03-05_v2.csv').iloc[:, 1])\n",
    "\n",
    "preds_0612 = np.array(pd.read_csv('report/inference_06-12_reranked.csv').iloc[:, 1])\n",
    "preds_0102 = np.array(pd.read_csv('report/inference_01-02_reranked.csv').iloc[:, 1])\n",
    "preds_0305 = np.array(pd.read_csv('report/inference_03-05_reranked.csv').iloc[:, 1])\n",
    "preds_0305_v2 = np.array(pd.read_csv('report/inference_03-05_v2_reranked.csv').iloc[:, 1])"
   ]
  },
  {
   "cell_type": "code",
   "execution_count": null,
   "metadata": {},
   "outputs": [],
   "source": [
    "plot = sns.kdeplot(preds_0612, shade=False)\n",
    "plot = sns.kdeplot(preds_0102, shade=False)\n",
    "plot = sns.kdeplot(preds_0305, shade=False)\n",
    "plot = sns.kdeplot(preds_0305_v2, shade=False)\n",
    "plot.set(yticklabels=[], xticklabels = [])\n",
    "sns.despine(left=True)"
   ]
  },
  {
   "cell_type": "code",
   "execution_count": null,
   "metadata": {},
   "outputs": [],
   "source": [
    "initial = preds_0102\n",
    "\n",
    "def scale_range (input, min, max):\n",
    "    input = input.copy()\n",
    "    input += -(np.min(input))\n",
    "    input /= np.max(input) / (max - min)\n",
    "    input += min\n",
    "    return input\n",
    "\n",
    "buckets = 10\n",
    "raw_breakpoints = np.arange(0, buckets + 1) / buckets\n",
    "breakpoints = scale_range(raw_breakpoints, np.min(initial), np.max(initial))\n",
    "#breakpoints = raw_breakpoints\n",
    "#breakpoints = np.stack([np.percentile(initial, b) for b in raw_breakpoints])\n",
    "\n",
    "res = []\n",
    "output_break_point = True\n",
    "for new in (preds_0305, preds_0305_v2):\n",
    "    initial_counts = np.histogram(initial, breakpoints)[0]\n",
    "    new_counts = np.histogram(new, breakpoints)[0]\n",
    "\n",
    "    df = pd.DataFrame({'Bucket': np.arange(1, buckets + 1), 'Breakpoint Value':breakpoints[1:], 'Initial Count':initial_counts, 'New Count':new_counts})\n",
    "    df['Initial Percent'] = df['Initial Count'] / len(initial)\n",
    "    df['New Percent'] = df['New Count'] / len(new)\n",
    "    df['New Percent'][df['New Percent'] == 0] = 1e-4\n",
    "    df['Initial Percent'][df['Initial Percent'] == 0] = 1e-4\n",
    "\n",
    "\n",
    "    percents = df[['Initial Percent', 'New Percent', 'Bucket']] \\\n",
    "                 .melt(id_vars=['Bucket']) \\\n",
    "                 .rename(columns={'variable':'Population', 'value':'Percent'})\n",
    "\n",
    "\n",
    "    df['PSI'] = (df['New Percent'] - df['Initial Percent']) * np.log(df['New Percent'] / (df['Initial Percent']))\n",
    "\n",
    "    for idx, x in enumerate(df['PSI'].tolist()):\n",
    "        if output_break_point:\n",
    "            res = [[x] for x in df['Breakpoint Value'].tolist()]\n",
    "            output_break_point = False\n",
    "        res[idx].append(x)\n",
    "\n",
    "last_bin = 0\n",
    "for idx, l in enumerate(res):\n",
    "    bin = l[0]\n",
    "    print('[{:.3f}, {})'.format(last_bin, '{:.3f}'.format(bin) if idx != len(res) - 1 else 'inf'), end='')\n",
    "    last_bin = bin\n",
    "    for x in l[1:]:\n",
    "        print('|{:.3%}'.format(x), end='')\n",
    "    print()\n",
    "arr = np.array(res)[:, 1:]\n",
    "sums = arr.sum(axis=0)\n",
    "print('Sum', ('|{:.3%}' * len(sums)).format(*sums))\n"
   ]
  }
 ],
 "metadata": {
  "kernelspec": {
   "display_name": "Python 3",
   "language": "python",
   "name": "python3"
  },
  "language_info": {
   "codemirror_mode": {
    "name": "ipython",
    "version": 3
   },
   "file_extension": ".py",
   "mimetype": "text/x-python",
   "name": "python",
   "nbconvert_exporter": "python",
   "pygments_lexer": "ipython3",
   "version": "3.6.6"
  }
 },
 "nbformat": 4,
 "nbformat_minor": 2
}
