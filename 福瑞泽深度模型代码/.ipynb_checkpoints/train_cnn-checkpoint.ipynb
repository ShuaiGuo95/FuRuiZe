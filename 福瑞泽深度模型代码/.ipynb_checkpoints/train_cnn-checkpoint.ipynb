{
 "cells": [
  {
   "cell_type": "code",
   "execution_count": 1,
   "metadata": {},
   "outputs": [],
   "source": [
    "import pickle\n",
    "import importlib\n",
    "import numpy as np\n",
    "import pandas as pd\n",
    "import matplotlib.pyplot as plt\n",
    "from mxnet import ndarray as nd\n",
    "from sklearn.preprocessing import MinMaxScaler\n",
    "from imblearn.over_sampling import SMOTE\n",
    "\n",
    "import auto_encoder\n",
    "import deep_model\n",
    "import dataset\n",
    "import config\n",
    "\n",
    "%load_ext autoreload\n",
    "%autoreload 2"
   ]
  },
  {
   "cell_type": "code",
   "execution_count": 2,
   "metadata": {},
   "outputs": [],
   "source": [
    "if dataset.SCALER_AVAILABLE is False:\n",
    "    X_0612, Y_0612 = dataset.get_0612(return_raw=True)\n",
    "\n",
    "    cnn_scaler = MinMaxScaler()\n",
    "    X = cnn_scaler.fit_transform(X_0612)\n",
    "    Y = Y_0612\n",
    "    with open(config.params['cnn_scaler_checkpoint'].format(X.shape[1]), 'wb') as f:\n",
    "        pickle.dump(cnn_scaler, f)\n",
    "    print(X.shape)\n",
    "    print(Y.shape)\n",
    "    importlib.reload(dataset)\n",
    "    importlib.reload(deep_model)"
   ]
  },
  {
   "cell_type": "code",
   "execution_count": 3,
   "metadata": {},
   "outputs": [],
   "source": [
    "X_0612, Y_0612 = dataset.get_0612()\n",
    "X_0102, Y_0102 = dataset.get_0102()\n",
    "X_0305, _ = dataset.get_0305()\n",
    "X_0305_v2, _ = dataset.get_0305(version='v2')"
   ]
  },
  {
   "cell_type": "code",
   "execution_count": 4,
   "metadata": {},
   "outputs": [
    {
     "name": "stderr",
     "output_type": "stream",
     "text": [
      "/home/youchen/miniconda3/envs/frz/lib/python3.6/site-packages/sklearn/utils/deprecation.py:58: DeprecationWarning: Class BalanceCascade is deprecated; BalanceCascade is deprecated in 0.4 and will be removed in 0.6.\n",
      "  warnings.warn(msg, category=DeprecationWarning)\n"
     ]
    },
    {
     "name": "stdout",
     "output_type": "stream",
     "text": [
      "(16341, 461)\n"
     ]
    }
   ],
   "source": [
    "X_train, Y_train = deep_model.unbalanceProcess(config.params, X_0612.squeeze(), Y_0612)\n",
    "print(X_train.shape)"
   ]
  },
  {
   "cell_type": "code",
   "execution_count": 5,
   "metadata": {},
   "outputs": [
    {
     "data": {
      "application/vnd.jupyter.widget-view+json": {
       "model_id": "c0c491f916b44abf936eaf97671f29f5",
       "version_major": 2,
       "version_minor": 0
      },
      "text/plain": [
       "HBox(children=(IntProgress(value=0, max=2), HTML(value='')))"
      ]
     },
     "metadata": {},
     "output_type": "display_data"
    },
    {
     "data": {
      "application/vnd.jupyter.widget-view+json": {
       "model_id": "",
       "version_major": 2,
       "version_minor": 0
      },
      "text/plain": [
       "HBox(children=(IntProgress(value=0, max=255), HTML(value='')))"
      ]
     },
     "metadata": {},
     "output_type": "display_data"
    },
    {
     "data": {
      "application/vnd.jupyter.widget-view+json": {
       "model_id": "",
       "version_major": 2,
       "version_minor": 0
      },
      "text/plain": [
       "HBox(children=(IntProgress(value=0, max=255), HTML(value='')))"
      ]
     },
     "metadata": {},
     "output_type": "display_data"
    },
    {
     "name": "stdout",
     "output_type": "stream",
     "text": [
      "\n"
     ]
    },
    {
     "data": {
      "text/plain": [
       "[OrderedDict([('loss', 0.18494484510363246),\n",
       "              ('train_auc', 0.6661084395095335),\n",
       "              ('train_ks', 0.22278501909757398),\n",
       "              ('f1', 0.1669479958258746)]),\n",
       " OrderedDict([('loss', 0.1723106219816526),\n",
       "              ('train_auc', 0.6702337406058618),\n",
       "              ('train_ks', 0.24383737421489832),\n",
       "              ('f1', 0.17879137932458258)])]"
      ]
     },
     "execution_count": 5,
     "metadata": {},
     "output_type": "execute_result"
    }
   ],
   "source": [
    "deep_model.train(np.expand_dims(X_train, axis=1), Y_train, config.params, test_X=X_0102, test_y=Y_0102)"
   ]
  },
  {
   "cell_type": "code",
   "execution_count": null,
   "metadata": {},
   "outputs": [],
   "source": []
  }
 ],
 "metadata": {
  "kernelspec": {
   "display_name": "Python 3",
   "language": "python",
   "name": "python3"
  },
  "language_info": {
   "codemirror_mode": {
    "name": "ipython",
    "version": 3
   },
   "file_extension": ".py",
   "mimetype": "text/x-python",
   "name": "python",
   "nbconvert_exporter": "python",
   "pygments_lexer": "ipython3",
   "version": "3.6.6"
  }
 },
 "nbformat": 4,
 "nbformat_minor": 2
}
