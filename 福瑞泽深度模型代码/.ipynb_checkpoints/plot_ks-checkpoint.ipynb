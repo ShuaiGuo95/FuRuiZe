{
 "cells": [
  {
   "cell_type": "code",
   "execution_count": null,
   "metadata": {},
   "outputs": [],
   "source": [
    "import pandas as pd\n",
    "from functions import *\n",
    "import matplotlib.pyplot as plt\n",
    "import numpy as np\n",
    "\n",
    "import dataset"
   ]
  },
  {
   "cell_type": "code",
   "execution_count": null,
   "metadata": {},
   "outputs": [],
   "source": [
    "data = pd.read_csv('report/inference_06-12_reranked.csv')\n",
    "_, label = dataset.get_0612()\n",
    "data['bad-prob'] = data['bad-prob'].map(lambda x: round(x, 3))\n",
    "data['good-prob'] = data['good-prob'].map(lambda x: round(x, 3))\n",
    "data['label'] = label\n",
    "data"
   ]
  },
  {
   "cell_type": "code",
   "execution_count": null,
   "metadata": {},
   "outputs": [],
   "source": [
    "KS_result = calc_KS_AR(data, 'bad-prob', 'label')\n",
    "\n",
    "print('the KS = %.4f'% (KS_result[0]))\n",
    "regroup = KS_result[1]\n",
    "print(regroup)\n",
    "print(regroup['good'].sum())\n",
    "print(regroup['bad'].sum())"
   ]
  },
  {
   "cell_type": "code",
   "execution_count": null,
   "metadata": {},
   "outputs": [],
   "source": [
    "plt.figure(figsize=(14, 10), dpi=80, facecolor='w')\n",
    "plt.plot(KS_result[1]['bad-prob'], KS_result[1]['goodCumPer'], 'r-', lw=2, alpha=0.8, label='Good Percent')\n",
    "plt.plot(KS_result[1]['bad-prob'], KS_result[1]['badCumPer'], 'g-', lw=2, alpha=0.8, label='Bad Percent')\n",
    "_index = np.argmax(KS_result[1]['goodCumPer'].as_matrix()- KS_result[1]['badCumPer'].as_matrix())\n",
    "_ks = KS_result[1]['goodCumPer'][_index]-KS_result[1]['badCumPer'][_index]\n",
    "plt.plot([KS_result[1]['bad-prob'][_index], KS_result[1]['bad-prob'][_index] ], [ KS_result[1]['badCumPer'][_index],  KS_result[1]['goodCumPer'][_index]], 'k--', lw=2, alpha=0.8, label='KS Statisstic: %.4f at %s'%(_ks, str(KS_result[1]['bad-prob'][_index])))\n",
    "\n",
    "plt.title('K-S curve', fontsize=18)\n",
    "plt.xlabel('Threshold', fontsize=14)\n",
    "plt.ylabel('good/bad percent', fontsize=14)\n",
    "plt.legend(loc='upper left', fontsize=12)\n",
    "plt.grid(b=True, ls=':')\n",
    "plt.savefig('report/ks_curve_06-12_reranked.png', dpi=150)\n",
    "plt.show()"
   ]
  },
  {
   "cell_type": "code",
   "execution_count": null,
   "metadata": {},
   "outputs": [],
   "source": []
  }
 ],
 "metadata": {
  "kernelspec": {
   "display_name": "Python 3",
   "language": "python",
   "name": "python3"
  },
  "language_info": {
   "codemirror_mode": {
    "name": "ipython",
    "version": 3
   },
   "file_extension": ".py",
   "mimetype": "text/x-python",
   "name": "python",
   "nbconvert_exporter": "python",
   "pygments_lexer": "ipython3",
   "version": "3.6.6"
  }
 },
 "nbformat": 4,
 "nbformat_minor": 2
}
