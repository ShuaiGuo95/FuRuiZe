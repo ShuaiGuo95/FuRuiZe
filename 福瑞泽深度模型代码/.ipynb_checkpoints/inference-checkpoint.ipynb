{
 "cells": [
  {
   "cell_type": "code",
   "execution_count": null,
   "metadata": {},
   "outputs": [],
   "source": [
    "import pickle\n",
    "import numpy as np\n",
    "import pandas as pd\n",
    "import mxnet as mx\n",
    "import matplotlib.pyplot as plt\n",
    "import seaborn as sns\n",
    "from mxnet import ndarray as nd\n",
    "from sklearn.preprocessing import MinMaxScaler\n",
    "\n",
    "import auto_encoder\n",
    "import deep_model\n",
    "import dataset\n",
    "import utils\n",
    "import re_rank\n",
    "import config\n",
    "\n",
    "%load_ext autoreload\n",
    "%autoreload 2"
   ]
  },
  {
   "cell_type": "code",
   "execution_count": null,
   "metadata": {},
   "outputs": [],
   "source": [
    "X_0612, Y_0612 = dataset.get_0612()\n",
    "X_0102, Y_0102 = dataset.get_0102()\n",
    "X_0305, _ = dataset.get_0305()\n",
    "X_0305_v2, _ = dataset.get_0305(version='v2')"
   ]
  },
  {
   "cell_type": "code",
   "execution_count": null,
   "metadata": {},
   "outputs": [],
   "source": [
    "X_0612.shape"
   ]
  },
  {
   "cell_type": "code",
   "execution_count": null,
   "metadata": {},
   "outputs": [],
   "source": [
    "model = deep_model.CNN()\n",
    "model.load_parameters(config.params['model_path'].format(X_0612.shape[2]), ctx=config.params['ctx'])\n",
    "\n",
    "def inference(X, model):\n",
    "    outputs = deep_model.predictProb(config.params, model, mx.gpu(), X)\n",
    "    return outputs"
   ]
  },
  {
   "cell_type": "code",
   "execution_count": null,
   "metadata": {},
   "outputs": [],
   "source": [
    "refined_outputs_0612 = inference(X_0612, model)\n",
    "refined_outputs_0102 = inference(X_0102, model)\n",
    "refined_outputs_0305 = inference(X_0305, model)\n",
    "refined_outputs_0305_v2 = inference(X_0305_v2, model)"
   ]
  },
  {
   "cell_type": "code",
   "execution_count": null,
   "metadata": {},
   "outputs": [],
   "source": [
    "pd.DataFrame({'applyid': pd.read_csv('data/train_0612.csv', encoding='gbk')['applyid'],\n",
    "              'bad-prob': refined_outputs_0612,\n",
    "              'good-prob': 1 - refined_outputs_0612}).to_csv('report/inference_06-12.csv',\n",
    "                                                             index=False)\n",
    "pd.DataFrame({'applyid': pd.read_csv('data/test_0102.csv', encoding='gbk')['applyid'],\n",
    "              'bad-prob': refined_outputs_0102,\n",
    "              'good-prob': 1 - refined_outputs_0102}).to_csv('report/inference_01-02.csv',\n",
    "                                                             index=False)\n",
    "pd.DataFrame({'applyid': pd.read_csv('data/test_0305.csv', encoding='gbk')['applyid'],\n",
    "              'bad-prob': refined_outputs_0305,\n",
    "              'good-prob': 1 - refined_outputs_0305}).to_csv('report/inference_03-05.csv',\n",
    "                                                             index=False)\n",
    "pd.DataFrame({'applyid': pd.read_csv('data/test_0305_v2.csv', encoding='gbk')['APPLYCD'],\n",
    "              'bad-prob': refined_outputs_0305_v2,\n",
    "              'good-prob': 1 - refined_outputs_0305_v2}).to_csv('report/inference_03-05_v2.csv',\n",
    "                                                                index=False)"
   ]
  },
  {
   "cell_type": "code",
   "execution_count": null,
   "metadata": {},
   "outputs": [],
   "source": [
    "reranked_0612 = re_rank.rerank(refined_outputs_0612)\n",
    "reranked_0102 = re_rank.rerank(refined_outputs_0102)\n",
    "reranked_0305 = re_rank.rerank(refined_outputs_0305)\n",
    "reranked_0305_v2 = re_rank.rerank(refined_outputs_0305_v2)"
   ]
  },
  {
   "cell_type": "code",
   "execution_count": null,
   "metadata": {},
   "outputs": [],
   "source": [
    "pd.DataFrame({'applyid': pd.read_csv('data/train_0612.csv', encoding='gbk')['applyid'],\n",
    "              'bad-prob': reranked_0612,\n",
    "              'good-prob': 1 - reranked_0612}).to_csv('report/inference_06-12_reranked.csv',\n",
    "                                                      index=False)\n",
    "pd.DataFrame({'applyid': pd.read_csv('data/test_0102.csv', encoding='gbk')['applyid'],\n",
    "              'bad-prob': reranked_0102,\n",
    "              'good-prob': 1 - reranked_0102}).to_csv('report/inference_01-02_reranked.csv',\n",
    "                                                      index=False)\n",
    "pd.DataFrame({'applyid': pd.read_csv('data/test_0305.csv', encoding='gbk')['applyid'],\n",
    "              'bad-prob': reranked_0305,\n",
    "              'good-prob': 1 - reranked_0305}).to_csv('report/inference_03-05_reranked.csv',\n",
    "                                                      index=False)\n",
    "pd.DataFrame({'applyid': pd.read_csv('data/test_0305_v2.csv', encoding='gbk')['APPLYCD'],\n",
    "              'bad-prob': reranked_0305_v2,\n",
    "              'good-prob': 1 - refined_outputs_0305_v2}).to_csv('report/inference_03-05_v2_reranked.csv',\n",
    "                                                                index=False)"
   ]
  },
  {
   "cell_type": "code",
   "execution_count": null,
   "metadata": {
    "scrolled": false
   },
   "outputs": [],
   "source": [
    "fig = plt.figure(figsize=(16, 8))\n",
    "plt.suptitle('Bad / Good Ratio {} / 1'.format(config.params['bad_weight'] / config.params['good_weight']))\n",
    "plt.subplot(2, 4, 1)\n",
    "plt.title('06-12')\n",
    "sns.distplot(refined_outputs_0612)\n",
    "plt.subplot(2, 4, 5)\n",
    "plt.title('06-12 (reranked)')\n",
    "sns.distplot(reranked_0612)\n",
    "plt.subplot(2, 4, 2)\n",
    "plt.title('01-02')\n",
    "sns.distplot(refined_outputs_0102)\n",
    "plt.subplot(2, 4, 6)\n",
    "plt.title('01-02 (reranked)')\n",
    "sns.distplot(reranked_0102)\n",
    "plt.subplot(2, 4, 3)\n",
    "plt.title('03-05 (77k)')\n",
    "sns.distplot(refined_outputs_0305)\n",
    "plt.subplot(2, 4, 7)\n",
    "plt.title('03-05 (77k, reranked)')\n",
    "sns.distplot(reranked_0305)\n",
    "plt.subplot(2, 4, 4)\n",
    "plt.title('03-05 (78k)')\n",
    "sns.distplot(refined_outputs_0305_v2)\n",
    "plt.subplot(2, 4, 8)\n",
    "plt.title('03-05 (78k, reranked)')\n",
    "sns.distplot(reranked_0305_v2)\n",
    "fig.savefig('report/probs_distribution.png', dpi=150)\n",
    "plt.show()"
   ]
  },
  {
   "cell_type": "code",
   "execution_count": null,
   "metadata": {},
   "outputs": [],
   "source": [
    "with open(config.params['refined_0612'], 'wb') as f:\n",
    "    np.save(f, refined_outputs_0612)\n",
    "with open(config.params['refined_0102'], 'wb') as f:\n",
    "    np.save(f, refined_outputs_0102)\n",
    "with open(config.params['refined_0305'], 'wb') as f:\n",
    "    np.save(f, refined_outputs_0305)\n",
    "with open(config.params['refined_0305_v2'], 'wb') as f:\n",
    "    np.save(f, refined_outputs_0305_v2)\n",
    "    \n",
    "with open(config.params['reranked_0612'], 'wb') as f:\n",
    "    np.save(f, reranked_0612)\n",
    "with open(config.params['reranked_0102'], 'wb') as f:\n",
    "    np.save(f, reranked_0102)\n",
    "with open(config.params['reranked_0305'], 'wb') as f:\n",
    "    np.save(f, reranked_0305)\n",
    "with open(config.params['reranked_0305_v2'], 'wb') as f:\n",
    "    np.save(f, reranked_0305_v2)"
   ]
  },
  {
   "cell_type": "code",
   "execution_count": null,
   "metadata": {},
   "outputs": [],
   "source": [
    "deep_model.evaluateAll(config.params, model, config.params['ctx'], X=X_0612, Y=Y_0612)"
   ]
  },
  {
   "cell_type": "code",
   "execution_count": null,
   "metadata": {},
   "outputs": [],
   "source": [
    "deep_model.evaluateAll(config.params, model, config.params['ctx'], X=X_0102, Y=Y_0102)"
   ]
  },
  {
   "cell_type": "code",
   "execution_count": null,
   "metadata": {},
   "outputs": [],
   "source": []
  }
 ],
 "metadata": {
  "kernelspec": {
   "display_name": "Python 3",
   "language": "python",
   "name": "python3"
  },
  "language_info": {
   "codemirror_mode": {
    "name": "ipython",
    "version": 3
   },
   "file_extension": ".py",
   "mimetype": "text/x-python",
   "name": "python",
   "nbconvert_exporter": "python",
   "pygments_lexer": "ipython3",
   "version": "3.6.6"
  }
 },
 "nbformat": 4,
 "nbformat_minor": 2
}
