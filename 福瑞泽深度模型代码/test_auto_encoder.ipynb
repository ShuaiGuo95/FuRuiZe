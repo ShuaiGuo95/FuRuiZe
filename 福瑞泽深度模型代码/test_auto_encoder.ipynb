{
 "cells": [
  {
   "cell_type": "code",
   "execution_count": null,
   "metadata": {},
   "outputs": [],
   "source": [
    "import pickle\n",
    "import numpy as np\n",
    "from mxnet import gluon as gl\n",
    "from mxnet import ndarray as nd\n",
    "\n",
    "import auto_encoder\n",
    "from config import params\n",
    "\n",
    "%load_ext autoreload\n",
    "%autoreload 2"
   ]
  },
  {
   "cell_type": "code",
   "execution_count": null,
   "metadata": {},
   "outputs": [],
   "source": [
    "DIM = 311\n",
    "\n",
    "with open(params['auto_encoder_scaler_checkpoint'].format(DIM), 'rb') as f:\n",
    "    encoder_scaler = pickle.load(f)\n",
    "encoder = auto_encoder.BackpropEncode(DIM, False)\n",
    "encoder.initialize()\n",
    "encoder.load_parameters(params['auto_encoder_checkpoint'].format(DIM))\n",
    "    \n",
    "squre_loss = gl.loss.L2Loss()"
   ]
  },
  {
   "cell_type": "code",
   "execution_count": null,
   "metadata": {},
   "outputs": [],
   "source": [
    "Xraw = np.load('clean_data/test_0102.npy').astype(np.float32)\n",
    "print(Xraw.shape)\n",
    "Xraw_scaled = encoder_scaler.transform(Xraw)\n",
    "output = encoder(nd.array(Xraw_scaled)).asnumpy()\n",
    "np.square(output - Xraw_scaled).sum() / Xraw.shape[0]"
   ]
  },
  {
   "cell_type": "code",
   "execution_count": null,
   "metadata": {},
   "outputs": [],
   "source": []
  }
 ],
 "metadata": {
  "kernelspec": {
   "display_name": "Python 3",
   "language": "python",
   "name": "python3"
  },
  "language_info": {
   "codemirror_mode": {
    "name": "ipython",
    "version": 3
   },
   "file_extension": ".py",
   "mimetype": "text/x-python",
   "name": "python",
   "nbconvert_exporter": "python",
   "pygments_lexer": "ipython3",
   "version": "3.6.6"
  }
 },
 "nbformat": 4,
 "nbformat_minor": 2
}
