{
 "cells": [
  {
   "cell_type": "code",
   "execution_count": null,
   "metadata": {},
   "outputs": [],
   "source": [
    "import pickle\n",
    "import importlib\n",
    "import numpy as np\n",
    "import pandas as pd\n",
    "import matplotlib.pyplot as plt\n",
    "from mxnet import ndarray as nd\n",
    "from sklearn.preprocessing import MinMaxScaler\n",
    "from imblearn.over_sampling import SMOTE\n",
    "\n",
    "import auto_encoder\n",
    "import deep_model\n",
    "import dataset\n",
    "import config\n",
    "\n",
    "%load_ext autoreload\n",
    "%autoreload 2"
   ]
  },
  {
   "cell_type": "code",
   "execution_count": null,
   "metadata": {},
   "outputs": [],
   "source": [
    "if dataset.SCALER_AVAILABLE is False:\n",
    "    X_0612, Y_0612 = dataset.get_0612(return_raw=True)\n",
    "\n",
    "    cnn_scaler = MinMaxScaler()\n",
    "    X = cnn_scaler.fit_transform(X_0612)\n",
    "    Y = Y_0612\n",
    "    with open(config.params['cnn_scaler_checkpoint'].format(X.shape[1]), 'wb') as f:\n",
    "        pickle.dump(cnn_scaler, f)\n",
    "    print(X.shape)\n",
    "    print(Y.shape)\n",
    "    importlib.reload(dataset)\n",
    "    importlib.reload(deep_model)"
   ]
  },
  {
   "cell_type": "code",
   "execution_count": null,
   "metadata": {},
   "outputs": [],
   "source": [
    "X_0612, Y_0612 = dataset.get_0612()\n",
    "X_0102, Y_0102 = dataset.get_0102()\n",
    "X_0305, _ = dataset.get_0305()\n",
    "X_0305_v2, _ = dataset.get_0305(version='v2')"
   ]
  },
  {
   "cell_type": "code",
   "execution_count": null,
   "metadata": {},
   "outputs": [],
   "source": [
    "X_train, Y_train = deep_model.unbalanceProcess(config.params, X_0612.squeeze(), Y_0612)\n",
    "print(X_train.shape)"
   ]
  },
  {
   "cell_type": "code",
   "execution_count": null,
   "metadata": {},
   "outputs": [],
   "source": [
    "deep_model.train(np.expand_dims(X_train, axis=1), Y_train, config.params, test_X=X_0102, test_y=Y_0102)"
   ]
  },
  {
   "cell_type": "code",
   "execution_count": null,
   "metadata": {},
   "outputs": [],
   "source": []
  }
 ],
 "metadata": {
  "kernelspec": {
   "display_name": "Python 3",
   "language": "python",
   "name": "python3"
  },
  "language_info": {
   "codemirror_mode": {
    "name": "ipython",
    "version": 3
   },
   "file_extension": ".py",
   "mimetype": "text/x-python",
   "name": "python",
   "nbconvert_exporter": "python",
   "pygments_lexer": "ipython3",
   "version": "3.6.6"
  }
 },
 "nbformat": 4,
 "nbformat_minor": 2
}
